{
  "cells": [
    {
      "cell_type": "markdown",
      "metadata": {
        "id": "Md413FzAvFD8"
      },
      "source": [
        "# DX 704 Week 6 Project\n",
        "\n",
        "This project will develop a treatment plan for a fictious illness \"Twizzleflu\".\n",
        "Twizzleflu is a mild illness caused by a virus.\n",
        "The main symptoms are a mild fever, fidgeting, and kicking the blankets off the bed or couch.\n",
        "Mild dehydration has also been reported in more severe cases.\n",
        "These symptoms typically last 1-2 weeks without treatment.\n",
        "Word on the internet says that Twizzleflu can be cured faster by drinking copious orange juice, but this has not been supported by evidence so far.\n",
        "You will be provided with a theoretical model of Twizzleflu modeled as a Markov decision process.\n",
        "Based on the model, you will compute optimal treatment plans to optimize different criteria, and compare patient discomfort with the different plans."
      ]
    },
    {
      "cell_type": "markdown",
      "metadata": {
        "id": "kzyRo9Tw5VcB"
      },
      "source": [
        "The full project description, a template notebook, and raw data are available on GitHub: [Project 6 Materials](https://github.com/bu-cds-dx704/dx704-project-06)."
      ]
    },
    {
      "cell_type": "markdown",
      "metadata": {
        "id": "tGYOZcnP6Vfu"
      },
      "source": [
        "We will model Twizzleflu as a Markov decision process.\n",
        "The model transition probabilities are provided in the file \"twizzleflu-transitions.tsv\" and the expected rewards are in \"twizzleflu-rewards.tsv\".\n",
        "The goal for Twizzleflu is to minimize the expected discomfort of the patient which is expressed as negative rewards in the file."
      ]
    },
    {
      "cell_type": "markdown",
      "metadata": {
        "id": "dlm2sUsades5"
      },
      "source": [
        "## Example Code\n",
        "\n",
        "You may find it helpful to refer to these GitHub repositories of Jupyter notebooks for example code.\n",
        "\n",
        "* https://github.com/bu-cds-omds/dx601-examples\n",
        "* https://github.com/bu-cds-omds/dx602-examples\n",
        "* https://github.com/bu-cds-omds/dx603-examples\n",
        "* https://github.com/bu-cds-omds/dx704-examples\n",
        "\n",
        "Any calculations demonstrated in code examples or videos may be found in these notebooks, and you are allowed to copy this example code in your homework answers."
      ]
    },
    {
      "cell_type": "markdown",
      "metadata": {
        "id": "C8oSLkMqvMFF"
      },
      "source": [
        "## Part 1: Evaluate a Do Nothing Plan\n",
        "\n",
        "One of the treatment actions is to do nothing.\n",
        "Calculate the expected discomfort (not rewards) of a policy that always does nothing."
      ]
    },
    {
      "cell_type": "markdown",
      "metadata": {
        "id": "cvG4mi_sAF9A"
      },
      "source": [
        "Hint: for this value calculation and later ones, use value iteration.\n",
        "The analytical solution has difficulties in practice when there is no discount factor."
      ]
    },
    {
      "cell_type": "code",
      "execution_count": 2,
      "metadata": {
        "id": "RVfnE8vf8yIl"
      },
      "outputs": [],
      "source": [
        "# YOUR CHANGES HERE\n",
        "\n",
        "import numpy as np\n",
        "import matplotlib.pyplot as plt\n",
        "import pandas as pd\n",
        "\n",
        "# Import twizzleflu-rewards.tsv and twizzleflu-transitions.tsv\n",
        "rewards = pd.read_csv('twizzleflu-rewards.tsv', sep='\\t')\n",
        "transitions = pd.read_csv('twizzleflu-transitions.tsv', sep='\\t')"
      ]
    },
    {
      "cell_type": "code",
      "execution_count": 45,
      "metadata": {},
      "outputs": [
        {
          "data": {
            "text/html": [
              "<div>\n",
              "<style scoped>\n",
              "    .dataframe tbody tr th:only-of-type {\n",
              "        vertical-align: middle;\n",
              "    }\n",
              "\n",
              "    .dataframe tbody tr th {\n",
              "        vertical-align: top;\n",
              "    }\n",
              "\n",
              "    .dataframe thead th {\n",
              "        text-align: right;\n",
              "    }\n",
              "</style>\n",
              "<table border=\"1\" class=\"dataframe\">\n",
              "  <thead>\n",
              "    <tr style=\"text-align: right;\">\n",
              "      <th></th>\n",
              "      <th>action</th>\n",
              "      <th>state</th>\n",
              "      <th>reward</th>\n",
              "    </tr>\n",
              "  </thead>\n",
              "  <tbody>\n",
              "    <tr>\n",
              "      <th>0</th>\n",
              "      <td>do-nothing</td>\n",
              "      <td>exposed-1</td>\n",
              "      <td>0.0</td>\n",
              "    </tr>\n",
              "    <tr>\n",
              "      <th>1</th>\n",
              "      <td>do-nothing</td>\n",
              "      <td>exposed-2</td>\n",
              "      <td>0.0</td>\n",
              "    </tr>\n",
              "    <tr>\n",
              "      <th>2</th>\n",
              "      <td>do-nothing</td>\n",
              "      <td>exposed-3</td>\n",
              "      <td>0.0</td>\n",
              "    </tr>\n",
              "    <tr>\n",
              "      <th>3</th>\n",
              "      <td>do-nothing</td>\n",
              "      <td>symptoms-1</td>\n",
              "      <td>-0.5</td>\n",
              "    </tr>\n",
              "    <tr>\n",
              "      <th>4</th>\n",
              "      <td>do-nothing</td>\n",
              "      <td>symptoms-2</td>\n",
              "      <td>-1.0</td>\n",
              "    </tr>\n",
              "  </tbody>\n",
              "</table>\n",
              "</div>"
            ],
            "text/plain": [
              "       action       state  reward\n",
              "0  do-nothing   exposed-1     0.0\n",
              "1  do-nothing   exposed-2     0.0\n",
              "2  do-nothing   exposed-3     0.0\n",
              "3  do-nothing  symptoms-1    -0.5\n",
              "4  do-nothing  symptoms-2    -1.0"
            ]
          },
          "execution_count": 45,
          "metadata": {},
          "output_type": "execute_result"
        }
      ],
      "source": [
        "rewards.head()"
      ]
    },
    {
      "cell_type": "code",
      "execution_count": 47,
      "metadata": {},
      "outputs": [
        {
          "data": {
            "text/html": [
              "<div>\n",
              "<style scoped>\n",
              "    .dataframe tbody tr th:only-of-type {\n",
              "        vertical-align: middle;\n",
              "    }\n",
              "\n",
              "    .dataframe tbody tr th {\n",
              "        vertical-align: top;\n",
              "    }\n",
              "\n",
              "    .dataframe thead th {\n",
              "        text-align: right;\n",
              "    }\n",
              "</style>\n",
              "<table border=\"1\" class=\"dataframe\">\n",
              "  <thead>\n",
              "    <tr style=\"text-align: right;\">\n",
              "      <th></th>\n",
              "      <th>action</th>\n",
              "      <th>state</th>\n",
              "      <th>next_state</th>\n",
              "      <th>probability</th>\n",
              "    </tr>\n",
              "  </thead>\n",
              "  <tbody>\n",
              "    <tr>\n",
              "      <th>0</th>\n",
              "      <td>do-nothing</td>\n",
              "      <td>exposed-1</td>\n",
              "      <td>exposed-2</td>\n",
              "      <td>0.8</td>\n",
              "    </tr>\n",
              "    <tr>\n",
              "      <th>1</th>\n",
              "      <td>do-nothing</td>\n",
              "      <td>exposed-1</td>\n",
              "      <td>recovered</td>\n",
              "      <td>0.2</td>\n",
              "    </tr>\n",
              "    <tr>\n",
              "      <th>2</th>\n",
              "      <td>do-nothing</td>\n",
              "      <td>exposed-2</td>\n",
              "      <td>exposed-3</td>\n",
              "      <td>0.8</td>\n",
              "    </tr>\n",
              "    <tr>\n",
              "      <th>3</th>\n",
              "      <td>do-nothing</td>\n",
              "      <td>exposed-2</td>\n",
              "      <td>recovered</td>\n",
              "      <td>0.2</td>\n",
              "    </tr>\n",
              "    <tr>\n",
              "      <th>4</th>\n",
              "      <td>do-nothing</td>\n",
              "      <td>exposed-3</td>\n",
              "      <td>symptoms-1</td>\n",
              "      <td>0.8</td>\n",
              "    </tr>\n",
              "  </tbody>\n",
              "</table>\n",
              "</div>"
            ],
            "text/plain": [
              "       action      state  next_state  probability\n",
              "0  do-nothing  exposed-1   exposed-2          0.8\n",
              "1  do-nothing  exposed-1   recovered          0.2\n",
              "2  do-nothing  exposed-2   exposed-3          0.8\n",
              "3  do-nothing  exposed-2   recovered          0.2\n",
              "4  do-nothing  exposed-3  symptoms-1          0.8"
            ]
          },
          "execution_count": 47,
          "metadata": {},
          "output_type": "execute_result"
        }
      ],
      "source": [
        "transitions.head()"
      ]
    },
    {
      "cell_type": "code",
      "execution_count": null,
      "metadata": {},
      "outputs": [],
      "source": [
        "# one step state-action values from a value estimate.\n",
        "# will use this a lot!\n",
        "\n",
        "def compute_qT_once(R, P, gamma, v):\n",
        "    # Rewards + gamma x expected future rewards for each action\n",
        "        # R means immediate rewards\n",
        "        # gamma means discount factor\n",
        "        # P means transition probabilities\n",
        "        # v means value function\n",
        "        # R has shape (nA, nS)\n",
        "        # P has shape (nA, nS, nS)\n",
        "        # v has shape (nS,)\n",
        "        # returns Q^T with shape (nA, nS)\n",
        "    return R + gamma * P @ v\n",
        "\n",
        "\n",
        "def iterate_values_once(R, P, gamma, v):\n",
        "    # one step of value iteration\n",
        "    # returns v_{i+1} given v_i\n",
        "    # this represents the maximum reward over all actions from computing Q^T\n",
        "    return np.max(compute_qT_once(R, P, gamma, v), axis=0)\n",
        "\n",
        "def value_iteration(R, P, gamma, max_iterations=100, tolerance=0.001):\n",
        "    # initial approximation v_0\n",
        "        # Vector of all zeros\n",
        "    v_old = np.zeros(R.shape[-1])\n",
        "\n",
        "    # Iterate up to max_iterations (default 100)\n",
        "    for i in range(max_iterations):\n",
        "        # compute v_{i+1}\n",
        "            # one step of value iteration\n",
        "        v_new = iterate_values_once(R, P, gamma, v_old)\n",
        "\n",
        "        # check if values did not change much (less than tolerance, default 0.001)\n",
        "        if np.max(np.abs(v_new - v_old)) < tolerance:\n",
        "            # If there was no significant change, return v_{i+1}\n",
        "                # Only return if converged (meaning that values did not change much)\n",
        "            return v_new\n",
        "        # If there was significant change, continue to next iteration\n",
        "            # Reassign v_{i+1} to v_i\n",
        "        v_old = v_new\n",
        "\n",
        "    # return v_{max_iterations} if not converged\n",
        "    return v_old"
      ]
    },
    {
      "cell_type": "code",
      "execution_count": 142,
      "metadata": {},
      "outputs": [],
      "source": [
        "# one step state-action values from a value estimate.\n",
        "# will use this a lot!\n",
        "\n",
        "def compute_qT_once_discomfort(R, P, gamma, v, reward_on=\"state\", R_is_cost=False):\n",
        "    # -R + gamma x expected future rewards for each action\n",
        "        # -R means immediate discomfort\n",
        "        # gamma means discount factor\n",
        "        # P means transition probabilities\n",
        "        # v means value function\n",
        "        # R has shape (nA, nS)\n",
        "        # P has shape (nA, nS, nS)\n",
        "        # v has shape (nS,)\n",
        "        # returns Q^T with shape (nA, nS)\n",
        "    if reward_on == \"state\":\n",
        "        C = -R if R_is_cost else (-R)\n",
        "        Pv = np.einsum('asn,n->as', P, v)\n",
        "        return C + gamma * Pv\n",
        "    elif reward_on == \"next_state\":\n",
        "        # Build the per-next-state reward matrix\n",
        "        addend = -R + gamma * v[None, :]\n",
        "        return np.einsum('asn,an->as', P, addend)\n",
        "    else:\n",
        "        raise ValueError(\"reward_on must be 'state' or 'next_state'\")\n",
        "\n",
        "def iterate_values_once_discomfort(R, P, gamma, v, *, reward_on=\"next_state\", R_is_cost=False):\n",
        "    # one step of value iteration\n",
        "    # returns v_{i+1} given v_i\n",
        "    # this represents the maximum reward over all actions from computing Q^T\n",
        "    return np.min(compute_qT_once_discomfort(R, P, gamma, v, reward_on=reward_on, R_is_cost=R_is_cost), axis=0)\n",
        "\n",
        "def value_iteration_discomfort(R, P, gamma, max_iterations=100, tolerance=0.001, reward_on=\"next_state\", R_is_cost=False):\n",
        "    # initial approximation v_0\n",
        "        # Vector of all zeros\n",
        "    v_old = np.zeros(R.shape[-1], dtype=float)\n",
        "\n",
        "    # Iterate up to max_iterations (default 100)\n",
        "    for i in range(max_iterations):\n",
        "        # compute v_{i+1}\n",
        "            # one step of value iteration\n",
        "        v_new = iterate_values_once_discomfort(R, P, gamma, v_old, reward_on=reward_on, R_is_cost=R_is_cost)\n",
        "        # check if values did not change much (less than tolerance, default 0.001)\n",
        "        if np.max(np.abs(v_new - v_old)) < tolerance:\n",
        "            # If there was no significant change, return v_{i+1}\n",
        "                # Only return if converged (meaning that values did not change much)\n",
        "            return v_new\n",
        "        # If there was significant change, continue to next iteration\n",
        "            # Reassign v_{i+1} to v_i\n",
        "        v_old = v_new\n",
        "\n",
        "    # return v_{max_iterations} if not converged\n",
        "    return v_old"
      ]
    },
    {
      "cell_type": "code",
      "execution_count": 121,
      "metadata": {},
      "outputs": [],
      "source": [
        "a_dn = \"do-nothing\"\n",
        "\n",
        "# state index\n",
        "states = sorted(set(rewards[\"state\"]) | set(transitions[\"state\"]) | set(transitions[\"next_state\"]))\n",
        "S = {s: i for i, s in enumerate(states)}\n",
        "ns = len(states)\n",
        "gamma = 0.9\n",
        "\n",
        "# Only use do-nothing action\n",
        "R = np.zeros((1, ns), dtype=float)\n",
        "P = np.zeros((1, ns, ns), dtype=float)"
      ]
    },
    {
      "cell_type": "code",
      "execution_count": 122,
      "metadata": {},
      "outputs": [
        {
          "data": {
            "text/plain": [
              "array([[0., 0., 0., 0., 0., 0., 0.]])"
            ]
          },
          "execution_count": 122,
          "metadata": {},
          "output_type": "execute_result"
        }
      ],
      "source": [
        "R"
      ]
    },
    {
      "cell_type": "code",
      "execution_count": 123,
      "metadata": {},
      "outputs": [
        {
          "data": {
            "text/plain": [
              "array([[[0., 0., 0., 0., 0., 0., 0.],\n",
              "        [0., 0., 0., 0., 0., 0., 0.],\n",
              "        [0., 0., 0., 0., 0., 0., 0.],\n",
              "        [0., 0., 0., 0., 0., 0., 0.],\n",
              "        [0., 0., 0., 0., 0., 0., 0.],\n",
              "        [0., 0., 0., 0., 0., 0., 0.],\n",
              "        [0., 0., 0., 0., 0., 0., 0.]]])"
            ]
          },
          "execution_count": 123,
          "metadata": {},
          "output_type": "execute_result"
        }
      ],
      "source": [
        "P"
      ]
    },
    {
      "cell_type": "code",
      "execution_count": 124,
      "metadata": {},
      "outputs": [
        {
          "data": {
            "text/plain": [
              "state\n",
              "exposed-1     0.000\n",
              "exposed-2     0.000\n",
              "exposed-3     0.000\n",
              "recovered     0.000\n",
              "symptoms-1   -0.625\n",
              "symptoms-2   -1.250\n",
              "symptoms-3   -0.625\n",
              "Name: reward, dtype: float64"
            ]
          },
          "execution_count": 124,
          "metadata": {},
          "output_type": "execute_result"
        }
      ],
      "source": [
        "# Fill R for do-nothing (one reward per state; average duplicates if any)\n",
        "r_dn = (\n",
        "    rewards\n",
        "      .groupby(\"state\", as_index=True)[\"reward\"]\n",
        "      .mean()\n",
        ")\n",
        "r_dn"
      ]
    },
    {
      "cell_type": "code",
      "execution_count": 125,
      "metadata": {},
      "outputs": [
        {
          "data": {
            "text/plain": [
              "array([[ 0.   ,  0.   ,  0.   ,  0.   , -0.625, -1.25 , -0.625]])"
            ]
          },
          "execution_count": 125,
          "metadata": {},
          "output_type": "execute_result"
        }
      ],
      "source": [
        "# Fill R\n",
        "for s_name, r in r_dn.items():\n",
        "    if s_name in S:\n",
        "        R[0, S[s_name]] = float(r)\n",
        "R"
      ]
    },
    {
      "cell_type": "code",
      "execution_count": 126,
      "metadata": {},
      "outputs": [
        {
          "data": {
            "text/html": [
              "<div>\n",
              "<style scoped>\n",
              "    .dataframe tbody tr th:only-of-type {\n",
              "        vertical-align: middle;\n",
              "    }\n",
              "\n",
              "    .dataframe tbody tr th {\n",
              "        vertical-align: top;\n",
              "    }\n",
              "\n",
              "    .dataframe thead th {\n",
              "        text-align: right;\n",
              "    }\n",
              "</style>\n",
              "<table border=\"1\" class=\"dataframe\">\n",
              "  <thead>\n",
              "    <tr style=\"text-align: right;\">\n",
              "      <th></th>\n",
              "      <th>action</th>\n",
              "      <th>state</th>\n",
              "      <th>next_state</th>\n",
              "      <th>probability</th>\n",
              "    </tr>\n",
              "  </thead>\n",
              "  <tbody>\n",
              "    <tr>\n",
              "      <th>0</th>\n",
              "      <td>do-nothing</td>\n",
              "      <td>exposed-1</td>\n",
              "      <td>exposed-2</td>\n",
              "      <td>0.8</td>\n",
              "    </tr>\n",
              "    <tr>\n",
              "      <th>1</th>\n",
              "      <td>do-nothing</td>\n",
              "      <td>exposed-1</td>\n",
              "      <td>recovered</td>\n",
              "      <td>0.2</td>\n",
              "    </tr>\n",
              "    <tr>\n",
              "      <th>2</th>\n",
              "      <td>do-nothing</td>\n",
              "      <td>exposed-2</td>\n",
              "      <td>exposed-3</td>\n",
              "      <td>0.8</td>\n",
              "    </tr>\n",
              "    <tr>\n",
              "      <th>3</th>\n",
              "      <td>do-nothing</td>\n",
              "      <td>exposed-2</td>\n",
              "      <td>recovered</td>\n",
              "      <td>0.2</td>\n",
              "    </tr>\n",
              "    <tr>\n",
              "      <th>4</th>\n",
              "      <td>do-nothing</td>\n",
              "      <td>exposed-3</td>\n",
              "      <td>symptoms-1</td>\n",
              "      <td>0.8</td>\n",
              "    </tr>\n",
              "    <tr>\n",
              "      <th>5</th>\n",
              "      <td>do-nothing</td>\n",
              "      <td>exposed-3</td>\n",
              "      <td>recovered</td>\n",
              "      <td>0.2</td>\n",
              "    </tr>\n",
              "    <tr>\n",
              "      <th>6</th>\n",
              "      <td>do-nothing</td>\n",
              "      <td>symptoms-1</td>\n",
              "      <td>symptoms-1</td>\n",
              "      <td>0.7</td>\n",
              "    </tr>\n",
              "    <tr>\n",
              "      <th>7</th>\n",
              "      <td>do-nothing</td>\n",
              "      <td>symptoms-1</td>\n",
              "      <td>symptoms-2</td>\n",
              "      <td>0.3</td>\n",
              "    </tr>\n",
              "    <tr>\n",
              "      <th>8</th>\n",
              "      <td>do-nothing</td>\n",
              "      <td>symptoms-2</td>\n",
              "      <td>symptoms-2</td>\n",
              "      <td>0.7</td>\n",
              "    </tr>\n",
              "    <tr>\n",
              "      <th>9</th>\n",
              "      <td>do-nothing</td>\n",
              "      <td>symptoms-2</td>\n",
              "      <td>symptoms-3</td>\n",
              "      <td>0.3</td>\n",
              "    </tr>\n",
              "    <tr>\n",
              "      <th>10</th>\n",
              "      <td>do-nothing</td>\n",
              "      <td>symptoms-3</td>\n",
              "      <td>symptoms-3</td>\n",
              "      <td>0.7</td>\n",
              "    </tr>\n",
              "    <tr>\n",
              "      <th>11</th>\n",
              "      <td>do-nothing</td>\n",
              "      <td>symptoms-3</td>\n",
              "      <td>recovered</td>\n",
              "      <td>0.3</td>\n",
              "    </tr>\n",
              "    <tr>\n",
              "      <th>12</th>\n",
              "      <td>do-nothing</td>\n",
              "      <td>recovered</td>\n",
              "      <td>recovered</td>\n",
              "      <td>1.0</td>\n",
              "    </tr>\n",
              "  </tbody>\n",
              "</table>\n",
              "</div>"
            ],
            "text/plain": [
              "        action       state  next_state  probability\n",
              "0   do-nothing   exposed-1   exposed-2          0.8\n",
              "1   do-nothing   exposed-1   recovered          0.2\n",
              "2   do-nothing   exposed-2   exposed-3          0.8\n",
              "3   do-nothing   exposed-2   recovered          0.2\n",
              "4   do-nothing   exposed-3  symptoms-1          0.8\n",
              "5   do-nothing   exposed-3   recovered          0.2\n",
              "6   do-nothing  symptoms-1  symptoms-1          0.7\n",
              "7   do-nothing  symptoms-1  symptoms-2          0.3\n",
              "8   do-nothing  symptoms-2  symptoms-2          0.7\n",
              "9   do-nothing  symptoms-2  symptoms-3          0.3\n",
              "10  do-nothing  symptoms-3  symptoms-3          0.7\n",
              "11  do-nothing  symptoms-3   recovered          0.3\n",
              "12  do-nothing   recovered   recovered          1.0"
            ]
          },
          "execution_count": 126,
          "metadata": {},
          "output_type": "execute_result"
        }
      ],
      "source": [
        "# Fill P for do-nothing\n",
        "    # Select only do-nothing transitions\n",
        "subP = transitions[transitions[\"action\"] == a_dn]\n",
        "subP"
      ]
    },
    {
      "cell_type": "code",
      "execution_count": 127,
      "metadata": {},
      "outputs": [
        {
          "data": {
            "text/html": [
              "<div>\n",
              "<style scoped>\n",
              "    .dataframe tbody tr th:only-of-type {\n",
              "        vertical-align: middle;\n",
              "    }\n",
              "\n",
              "    .dataframe tbody tr th {\n",
              "        vertical-align: top;\n",
              "    }\n",
              "\n",
              "    .dataframe thead th {\n",
              "        text-align: right;\n",
              "    }\n",
              "</style>\n",
              "<table border=\"1\" class=\"dataframe\">\n",
              "  <thead>\n",
              "    <tr style=\"text-align: right;\">\n",
              "      <th></th>\n",
              "      <th>state</th>\n",
              "      <th>next_state</th>\n",
              "      <th>probability</th>\n",
              "    </tr>\n",
              "  </thead>\n",
              "  <tbody>\n",
              "    <tr>\n",
              "      <th>0</th>\n",
              "      <td>exposed-1</td>\n",
              "      <td>exposed-2</td>\n",
              "      <td>0.8</td>\n",
              "    </tr>\n",
              "    <tr>\n",
              "      <th>1</th>\n",
              "      <td>exposed-1</td>\n",
              "      <td>recovered</td>\n",
              "      <td>0.2</td>\n",
              "    </tr>\n",
              "    <tr>\n",
              "      <th>2</th>\n",
              "      <td>exposed-2</td>\n",
              "      <td>exposed-3</td>\n",
              "      <td>0.8</td>\n",
              "    </tr>\n",
              "    <tr>\n",
              "      <th>3</th>\n",
              "      <td>exposed-2</td>\n",
              "      <td>recovered</td>\n",
              "      <td>0.2</td>\n",
              "    </tr>\n",
              "    <tr>\n",
              "      <th>4</th>\n",
              "      <td>exposed-3</td>\n",
              "      <td>recovered</td>\n",
              "      <td>0.2</td>\n",
              "    </tr>\n",
              "    <tr>\n",
              "      <th>5</th>\n",
              "      <td>exposed-3</td>\n",
              "      <td>symptoms-1</td>\n",
              "      <td>0.8</td>\n",
              "    </tr>\n",
              "    <tr>\n",
              "      <th>6</th>\n",
              "      <td>recovered</td>\n",
              "      <td>recovered</td>\n",
              "      <td>1.0</td>\n",
              "    </tr>\n",
              "    <tr>\n",
              "      <th>7</th>\n",
              "      <td>symptoms-1</td>\n",
              "      <td>symptoms-1</td>\n",
              "      <td>0.7</td>\n",
              "    </tr>\n",
              "    <tr>\n",
              "      <th>8</th>\n",
              "      <td>symptoms-1</td>\n",
              "      <td>symptoms-2</td>\n",
              "      <td>0.3</td>\n",
              "    </tr>\n",
              "    <tr>\n",
              "      <th>9</th>\n",
              "      <td>symptoms-2</td>\n",
              "      <td>symptoms-2</td>\n",
              "      <td>0.7</td>\n",
              "    </tr>\n",
              "    <tr>\n",
              "      <th>10</th>\n",
              "      <td>symptoms-2</td>\n",
              "      <td>symptoms-3</td>\n",
              "      <td>0.3</td>\n",
              "    </tr>\n",
              "    <tr>\n",
              "      <th>11</th>\n",
              "      <td>symptoms-3</td>\n",
              "      <td>recovered</td>\n",
              "      <td>0.3</td>\n",
              "    </tr>\n",
              "    <tr>\n",
              "      <th>12</th>\n",
              "      <td>symptoms-3</td>\n",
              "      <td>symptoms-3</td>\n",
              "      <td>0.7</td>\n",
              "    </tr>\n",
              "  </tbody>\n",
              "</table>\n",
              "</div>"
            ],
            "text/plain": [
              "         state  next_state  probability\n",
              "0    exposed-1   exposed-2          0.8\n",
              "1    exposed-1   recovered          0.2\n",
              "2    exposed-2   exposed-3          0.8\n",
              "3    exposed-2   recovered          0.2\n",
              "4    exposed-3   recovered          0.2\n",
              "5    exposed-3  symptoms-1          0.8\n",
              "6    recovered   recovered          1.0\n",
              "7   symptoms-1  symptoms-1          0.7\n",
              "8   symptoms-1  symptoms-2          0.3\n",
              "9   symptoms-2  symptoms-2          0.7\n",
              "10  symptoms-2  symptoms-3          0.3\n",
              "11  symptoms-3   recovered          0.3\n",
              "12  symptoms-3  symptoms-3          0.7"
            ]
          },
          "execution_count": 127,
          "metadata": {},
          "output_type": "execute_result"
        }
      ],
      "source": [
        "# Sum probabilities for duplicate pairs\n",
        "subP_agg = (\n",
        "    subP\n",
        "      .groupby([\"state\", \"next_state\"], as_index=False)[\"probability\"]\n",
        "      .sum()\n",
        ")\n",
        "subP_agg"
      ]
    },
    {
      "cell_type": "code",
      "execution_count": 128,
      "metadata": {},
      "outputs": [],
      "source": [
        "# For each state, normalize outgoing probabilities\n",
        "    # If none, default to self-loop\n",
        "for s_name in states:\n",
        "    # Get state index\n",
        "    s_idx = S[s_name]\n",
        "    # Get outgoing transition rows\n",
        "    rows = subP_agg[subP_agg[\"state\"] == s_name]\n",
        "\n",
        "    # Normalize probabilities\n",
        "    if len(rows) == 0:\n",
        "        # No outgoing transitions specified: stay in place\n",
        "        P[0, s_idx, s_idx] = 1.0\n",
        "        continue\n",
        "\n",
        "    # Normalize probabilities by dividing by total\n",
        "    total = rows[\"probability\"].sum()\n",
        "    if total <= 0:\n",
        "        # Degenerate row: also make it a self-loop\n",
        "        P[0, s_idx, s_idx] = 1.0\n",
        "        continue\n",
        "\n",
        "    # Fill in normalized probabilities\n",
        "    for _, row in rows.iterrows():\n",
        "        sp_name = row[\"next_state\"]\n",
        "        if sp_name in S:\n",
        "            P[0, s_idx, S[sp_name]] = float(row[\"probability\"]) / float(total)"
      ]
    },
    {
      "cell_type": "code",
      "execution_count": 129,
      "metadata": {},
      "outputs": [
        {
          "data": {
            "text/plain": [
              "array([[[0. , 0.8, 0. , 0.2, 0. , 0. , 0. ],\n",
              "        [0. , 0. , 0.8, 0.2, 0. , 0. , 0. ],\n",
              "        [0. , 0. , 0. , 0.2, 0.8, 0. , 0. ],\n",
              "        [0. , 0. , 0. , 1. , 0. , 0. , 0. ],\n",
              "        [0. , 0. , 0. , 0. , 0.7, 0.3, 0. ],\n",
              "        [0. , 0. , 0. , 0. , 0. , 0.7, 0.3],\n",
              "        [0. , 0. , 0. , 0.3, 0. , 0. , 0.7]]])"
            ]
          },
          "execution_count": 129,
          "metadata": {},
          "output_type": "execute_result"
        }
      ],
      "source": [
        "P"
      ]
    },
    {
      "cell_type": "code",
      "execution_count": 144,
      "metadata": {},
      "outputs": [
        {
          "name": "stdout",
          "output_type": "stream",
          "text": [
            "Optimal value function (expected discomfort) for gamma=0.9:\n",
            "[2.09407341 2.90929863 4.04150737 0.         4.91952714 3.73423479\n",
            " 1.18241436]\n",
            "\n",
            "State values (expected discomfort) for gamma=0.9:\n",
            "{'exposed-1': np.float64(2.0940734076665395), 'exposed-2': np.float64(2.909298630761604), 'exposed-3': np.float64(4.041507371557486), 'recovered': np.float64(0.0), 'symptoms-1': np.float64(4.919527141459451), 'symptoms-2': np.float64(3.734234792433823), 'symptoms-3': np.float64(1.1824143627916024)}\n"
          ]
        },
        {
          "data": {
            "text/html": [
              "<div>\n",
              "<style scoped>\n",
              "    .dataframe tbody tr th:only-of-type {\n",
              "        vertical-align: middle;\n",
              "    }\n",
              "\n",
              "    .dataframe tbody tr th {\n",
              "        vertical-align: top;\n",
              "    }\n",
              "\n",
              "    .dataframe thead th {\n",
              "        text-align: right;\n",
              "    }\n",
              "</style>\n",
              "<table border=\"1\" class=\"dataframe\">\n",
              "  <thead>\n",
              "    <tr style=\"text-align: right;\">\n",
              "      <th></th>\n",
              "      <th>state</th>\n",
              "      <th>expected_discomfort</th>\n",
              "    </tr>\n",
              "  </thead>\n",
              "  <tbody>\n",
              "    <tr>\n",
              "      <th>0</th>\n",
              "      <td>exposed-1</td>\n",
              "      <td>2.094073</td>\n",
              "    </tr>\n",
              "    <tr>\n",
              "      <th>1</th>\n",
              "      <td>exposed-2</td>\n",
              "      <td>2.909299</td>\n",
              "    </tr>\n",
              "    <tr>\n",
              "      <th>2</th>\n",
              "      <td>exposed-3</td>\n",
              "      <td>4.041507</td>\n",
              "    </tr>\n",
              "    <tr>\n",
              "      <th>3</th>\n",
              "      <td>recovered</td>\n",
              "      <td>0.000000</td>\n",
              "    </tr>\n",
              "    <tr>\n",
              "      <th>4</th>\n",
              "      <td>symptoms-1</td>\n",
              "      <td>4.919527</td>\n",
              "    </tr>\n",
              "    <tr>\n",
              "      <th>5</th>\n",
              "      <td>symptoms-2</td>\n",
              "      <td>3.734235</td>\n",
              "    </tr>\n",
              "    <tr>\n",
              "      <th>6</th>\n",
              "      <td>symptoms-3</td>\n",
              "      <td>1.182414</td>\n",
              "    </tr>\n",
              "  </tbody>\n",
              "</table>\n",
              "</div>"
            ],
            "text/plain": [
              "        state  expected_discomfort\n",
              "0   exposed-1             2.094073\n",
              "1   exposed-2             2.909299\n",
              "2   exposed-3             4.041507\n",
              "3   recovered             0.000000\n",
              "4  symptoms-1             4.919527\n",
              "5  symptoms-2             3.734235\n",
              "6  symptoms-3             1.182414"
            ]
          },
          "execution_count": 144,
          "metadata": {},
          "output_type": "execute_result"
        }
      ],
      "source": [
        "v_optimal_discomfort = value_iteration_discomfort(R, P, gamma, reward_on=\"next_state\", R_is_cost=False)\n",
        "print(\"Optimal value function (expected discomfort) for gamma=0.9:\")\n",
        "print(v_optimal_discomfort)\n",
        "print()\n",
        "\n",
        "# Pack as dictionary mapping state to value\n",
        "state_values_discomfort = {states[i]: v for i, v in enumerate(v_optimal_discomfort)}\n",
        "print(\"State values (expected discomfort) for gamma=0.9:\")\n",
        "print(state_values_discomfort)\n",
        "\n",
        "# Convert directly to a dataframe\n",
        "do_nothing_discomfort = pd.DataFrame(list(state_values_discomfort.items()), columns=['state', 'expected_discomfort'])\n",
        "do_nothing_discomfort"
      ]
    },
    {
      "cell_type": "markdown",
      "metadata": {
        "id": "oji9gHEk8ytE"
      },
      "source": [
        "Save the expected discomfort by state to a file \"do-nothing-discomfort.tsv\" with columns state and expected_discomfort."
      ]
    },
    {
      "cell_type": "code",
      "execution_count": 108,
      "metadata": {
        "id": "ZLDuiAb99ACA"
      },
      "outputs": [],
      "source": [
        "# YOUR CHANGES HERE\n",
        "\n",
        "do_nothing_discomfort.to_csv('do-nothing-discomfort.tsv', sep='\\t', index=False)"
      ]
    },
    {
      "cell_type": "markdown",
      "metadata": {
        "id": "7-8sGANC-Dzs"
      },
      "source": [
        "Submit \"do-nothing-discomfort.tsv\" in Gradescope."
      ]
    },
    {
      "cell_type": "markdown",
      "metadata": {
        "id": "RJ1ietVp9BCS"
      },
      "source": [
        "## Part 2: Compute an Optimal Treatment Plan\n",
        "\n",
        "Compute an optimal treatment plan for Twizzleflu.\n",
        "It should minimize the expected discomfort (maximize the rewards)."
      ]
    },
    {
      "cell_type": "code",
      "execution_count": null,
      "metadata": {
        "id": "6fdjt6qk9mZM"
      },
      "outputs": [],
      "source": [
        "# YOUR CHANGES HERE\n",
        "\n",
        "..."
      ]
    },
    {
      "cell_type": "markdown",
      "metadata": {
        "id": "PRcByl1h9nBf"
      },
      "source": [
        "Save the optimal actions for each state to a file \"minimum-discomfort-actions.tsv\" with columns state and action."
      ]
    },
    {
      "cell_type": "code",
      "execution_count": null,
      "metadata": {
        "id": "FhAajvpX9wru"
      },
      "outputs": [],
      "source": [
        "# YOUR CHANGES HERE\n",
        "\n",
        "..."
      ]
    },
    {
      "cell_type": "markdown",
      "metadata": {
        "id": "sr00MlhL-Hdv"
      },
      "source": [
        "Submit \"minimum-discomfort-actions.tsv\" in Gradescope."
      ]
    },
    {
      "cell_type": "markdown",
      "metadata": {
        "id": "65p3NRTy9xjT"
      },
      "source": [
        "## Part 3: Expected Discomfort\n",
        "\n",
        "Using your previous optimal policy, compute the expected discomfort for each state."
      ]
    },
    {
      "cell_type": "code",
      "execution_count": null,
      "metadata": {
        "id": "t5bHbK24-AhQ"
      },
      "outputs": [],
      "source": [
        "# YOUR CHANGES HERE\n",
        "\n",
        "..."
      ]
    },
    {
      "cell_type": "markdown",
      "metadata": {
        "id": "Er6-0c0f-BGw"
      },
      "source": [
        "Save your results in a file \"minimum-discomfort-values.tsv\" with columns state and expected_discomfort."
      ]
    },
    {
      "cell_type": "code",
      "execution_count": null,
      "metadata": {
        "id": "NAQFQnp_-TZ1"
      },
      "outputs": [],
      "source": [
        "# YOUR CHANGES HERE\n",
        "\n",
        "..."
      ]
    },
    {
      "cell_type": "markdown",
      "metadata": {
        "id": "83wnFZfk-UDd"
      },
      "source": [
        "Submit \"minimum-discomfort-values.tsv\" in Gradescope."
      ]
    },
    {
      "cell_type": "markdown",
      "metadata": {
        "id": "CKUTt9gx-XBF"
      },
      "source": [
        "## Part 4: Minimizing Twizzleflu Duration\n",
        "\n",
        "Modifiy the Markov decision process to minimize the days until the Twizzle flu is over.\n",
        "To do so, change the reward function to always be -1 if the current state corresponds to being sick and 0 if the current state corresponds to being better.\n",
        "To be clear, the action does not matter for this reward function.\n"
      ]
    },
    {
      "cell_type": "code",
      "execution_count": null,
      "metadata": {
        "id": "HXrnkCh5-trk"
      },
      "outputs": [],
      "source": [
        "# YOUR CHANGES HERE\n",
        "\n",
        "..."
      ]
    },
    {
      "cell_type": "markdown",
      "metadata": {
        "id": "je9Rt239-uRl"
      },
      "source": [
        "Save your new reward function in a file \"duration-rewards.tsv\" in the same format as \"twizzleflu-rewards.tsv\"."
      ]
    },
    {
      "cell_type": "code",
      "execution_count": null,
      "metadata": {
        "id": "_cmV1ewj-4-Q"
      },
      "outputs": [],
      "source": [
        "# YOUR CHANGES HERE\n",
        "\n",
        "..."
      ]
    },
    {
      "cell_type": "markdown",
      "metadata": {
        "id": "r0lubs9v-5XQ"
      },
      "source": [
        "Submit \"duration-rewards.tsv\" in Gradescope."
      ]
    },
    {
      "cell_type": "markdown",
      "metadata": {
        "id": "Jf73YFzB-802"
      },
      "source": [
        "## Part 5: Optimize for Shorter Twizzleflu\n",
        "\n",
        "Compute an optimal policy to minimize the duration of Twizzleflu."
      ]
    },
    {
      "cell_type": "code",
      "execution_count": null,
      "metadata": {
        "id": "Sa_HI0f0_FHA"
      },
      "outputs": [],
      "source": [
        "# YOUR CHANGES HERE\n",
        "\n",
        "..."
      ]
    },
    {
      "cell_type": "markdown",
      "metadata": {
        "id": "px1xDndA_F3O"
      },
      "source": [
        "Save the optimal actions for each state to a file \"minimum-duration-actions.tsv\" with columns state and action."
      ]
    },
    {
      "cell_type": "code",
      "execution_count": null,
      "metadata": {
        "id": "PGvWqSiI_Sqy"
      },
      "outputs": [],
      "source": [
        "# YOUR CHANGES HERE\n",
        "\n",
        "..."
      ]
    },
    {
      "cell_type": "markdown",
      "metadata": {
        "id": "itPVLMaM_UDn"
      },
      "source": [
        "Submit \"minimum-duration-actions.tsv\" in Gradescope."
      ]
    },
    {
      "cell_type": "markdown",
      "metadata": {
        "id": "eOzSQ3fV_XBO"
      },
      "source": [
        "## Part 6: Shorter Twizzleflu?\n",
        "\n",
        "Compute the expected number of days sick for each state to a file."
      ]
    },
    {
      "cell_type": "code",
      "execution_count": null,
      "metadata": {
        "id": "WO_yubXg_gxn"
      },
      "outputs": [],
      "source": [
        "# YOUR CHANGES HERE\n",
        "\n",
        "..."
      ]
    },
    {
      "cell_type": "markdown",
      "metadata": {
        "id": "_Zf8j6_D_hbZ"
      },
      "source": [
        "Save the expected sick days for each state to a file \"minimum-duration-days.tsv\" with columns state and expected_sick_days."
      ]
    },
    {
      "cell_type": "code",
      "execution_count": null,
      "metadata": {
        "id": "yWS2HNVl_o3P"
      },
      "outputs": [],
      "source": [
        "# YOUR CHANGES HERE\n",
        "\n",
        "..."
      ]
    },
    {
      "cell_type": "markdown",
      "metadata": {
        "id": "SVApozXF_pjI"
      },
      "source": [
        "Submit \"minimum-duration-days.tsv\" in Gradescope."
      ]
    },
    {
      "cell_type": "markdown",
      "metadata": {
        "id": "Znw87KK7_uv5"
      },
      "source": [
        "## Part 7: Speed vs Pampering\n",
        "\n",
        "Compute the expected discomfort using the policy to minimize days sick, and compare the results to the expected discomfort when optimizing to minimize discomfort."
      ]
    },
    {
      "cell_type": "code",
      "execution_count": null,
      "metadata": {
        "id": "0AdnpD-6__y5"
      },
      "outputs": [],
      "source": [
        "# YOUR CHANGES HERE\n",
        "\n",
        "..."
      ]
    },
    {
      "cell_type": "markdown",
      "metadata": {
        "id": "M3ZVJ2lcAAkP"
      },
      "source": [
        "Save the results to a file \"policy-comparison.tsv\" with columns state, speed_discomfort, and minimize_discomfort."
      ]
    },
    {
      "cell_type": "code",
      "execution_count": null,
      "metadata": {
        "id": "9H9EG0zTAMt1"
      },
      "outputs": [],
      "source": [
        "# YOUR CHANGES HERE\n",
        "\n",
        "..."
      ]
    },
    {
      "cell_type": "markdown",
      "metadata": {
        "id": "EVhLZuuaANNf"
      },
      "source": [
        "Submit \"policy-comparison.tsv\" in Gradescope."
      ]
    },
    {
      "cell_type": "markdown",
      "metadata": {
        "id": "smsTLuFcvR-I"
      },
      "source": [
        "## Part 8: Code\n",
        "\n",
        "Please submit a Jupyter notebook that can reproduce all your calculations and recreate the previously submitted files."
      ]
    },
    {
      "cell_type": "markdown",
      "metadata": {
        "id": "zi8lV2pbvWMs"
      },
      "source": [
        "## Part 9: Acknowledgements\n",
        "\n",
        "If you discussed this assignment with anyone, please acknowledge them here.\n",
        "If you did this assignment completely on your own, simply write none below.\n",
        "\n",
        "If you used any libraries not mentioned in this module's content, please list them with a brief explanation what you used them for. If you did not use any other libraries, simply write none below.\n",
        "\n",
        "If you used any generative AI tools, please add links to your transcripts below, and any other information that you feel is necessary to comply with the generative AI policy. If you did not use any generative AI tools, simply write none below."
      ]
    }
  ],
  "metadata": {
    "colab": {
      "toc_visible": false
    },
    "kernelspec": {
      "display_name": "Python 3",
      "name": "python3"
    },
    "language_info": {
      "codemirror_mode": {
        "name": "ipython",
        "version": 3
      },
      "file_extension": ".py",
      "mimetype": "text/x-python",
      "name": "python",
      "nbconvert_exporter": "python",
      "pygments_lexer": "ipython3",
      "version": "3.13.3"
    }
  },
  "nbformat": 4,
  "nbformat_minor": 0
}
